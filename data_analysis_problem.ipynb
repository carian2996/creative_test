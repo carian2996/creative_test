{
 "cells": [
  {
   "cell_type": "markdown",
   "metadata": {},
   "source": [
    "# Modeling process to driver's applicantions engagement"
   ]
  },
  {
   "cell_type": "markdown",
   "metadata": {},
   "source": [
    "## 1. Libraries"
   ]
  },
  {
   "cell_type": "code",
   "execution_count": 1,
   "metadata": {
    "collapsed": false
   },
   "outputs": [],
   "source": [
    "import numpy as np # data manipulation\n",
    "import pandas as pd # data manipulation\n",
    "import seaborn as sns # data visualization\n",
    "import matplotlib.pyplot as plt # data visualization\n",
    "\n",
    "from tools import *\n",
    "from datetime import * # data transformation\n",
    "import calendar # data transformation\n",
    "\n",
    "%matplotlib inline"
   ]
  },
  {
   "cell_type": "markdown",
   "metadata": {},
   "source": [
    "## 2. Import data and first exploration\n",
    "\n",
    "The first step was loaded the data and explore its structure, so I could understand better which kind of variables I was treating"
   ]
  },
  {
   "cell_type": "code",
   "execution_count": 2,
   "metadata": {
    "collapsed": false
   },
   "outputs": [],
   "source": [
    "dataset = pd.read_excel('data.xlsx')"
   ]
  },
  {
   "cell_type": "code",
   "execution_count": 3,
   "metadata": {
    "collapsed": false
   },
   "outputs": [
    {
     "name": "stdout",
     "output_type": "stream",
     "text": [
      "There are 54681 records in the dataset\n"
     ]
    }
   ],
   "source": [
    "print 'There are', len(dataset), 'records in the dataset'"
   ]
  },
  {
   "cell_type": "code",
   "execution_count": 4,
   "metadata": {
    "collapsed": false
   },
   "outputs": [
    {
     "data": {
      "text/html": [
       "<div>\n",
       "<table border=\"1\" class=\"dataframe\">\n",
       "  <thead>\n",
       "    <tr style=\"text-align: right;\">\n",
       "      <th></th>\n",
       "      <th>id</th>\n",
       "      <th>city_name</th>\n",
       "      <th>signup_os</th>\n",
       "      <th>signup_channel</th>\n",
       "      <th>signup_date</th>\n",
       "      <th>bgc_date</th>\n",
       "      <th>vehicle_added_date</th>\n",
       "      <th>vehicle_make</th>\n",
       "      <th>vehicle_model</th>\n",
       "      <th>vehicle_year</th>\n",
       "      <th>first_completed_date</th>\n",
       "    </tr>\n",
       "  </thead>\n",
       "  <tbody>\n",
       "    <tr>\n",
       "      <th>33134</th>\n",
       "      <td>33135</td>\n",
       "      <td>Strark</td>\n",
       "      <td>mac</td>\n",
       "      <td>Organic</td>\n",
       "      <td>2016-01-24</td>\n",
       "      <td>2016-02-22</td>\n",
       "      <td>NaN</td>\n",
       "      <td>NaN</td>\n",
       "      <td>NaN</td>\n",
       "      <td>NaN</td>\n",
       "      <td>NaN</td>\n",
       "    </tr>\n",
       "    <tr>\n",
       "      <th>48881</th>\n",
       "      <td>48882</td>\n",
       "      <td>Strark</td>\n",
       "      <td>ios web</td>\n",
       "      <td>Referral</td>\n",
       "      <td>2016-01-14</td>\n",
       "      <td>2016-01-14</td>\n",
       "      <td>2016-01-14 00:00:00</td>\n",
       "      <td>Nissan</td>\n",
       "      <td>Sentra</td>\n",
       "      <td>2015.0</td>\n",
       "      <td>2016-01-16 00:00:00</td>\n",
       "    </tr>\n",
       "    <tr>\n",
       "      <th>44563</th>\n",
       "      <td>44564</td>\n",
       "      <td>Berton</td>\n",
       "      <td>ios web</td>\n",
       "      <td>Referral</td>\n",
       "      <td>2016-01-17</td>\n",
       "      <td>2016-01-22</td>\n",
       "      <td>NaN</td>\n",
       "      <td>NaN</td>\n",
       "      <td>NaN</td>\n",
       "      <td>NaN</td>\n",
       "      <td>NaN</td>\n",
       "    </tr>\n",
       "    <tr>\n",
       "      <th>43361</th>\n",
       "      <td>43362</td>\n",
       "      <td>Berton</td>\n",
       "      <td>android web</td>\n",
       "      <td>Organic</td>\n",
       "      <td>2016-01-16</td>\n",
       "      <td>2016-01-22</td>\n",
       "      <td>NaN</td>\n",
       "      <td>NaN</td>\n",
       "      <td>NaN</td>\n",
       "      <td>NaN</td>\n",
       "      <td>NaN</td>\n",
       "    </tr>\n",
       "    <tr>\n",
       "      <th>48812</th>\n",
       "      <td>48813</td>\n",
       "      <td>Berton</td>\n",
       "      <td>ios web</td>\n",
       "      <td>Organic</td>\n",
       "      <td>2016-01-10</td>\n",
       "      <td>NaT</td>\n",
       "      <td>NaN</td>\n",
       "      <td>NaN</td>\n",
       "      <td>NaN</td>\n",
       "      <td>NaN</td>\n",
       "      <td>NaN</td>\n",
       "    </tr>\n",
       "  </tbody>\n",
       "</table>\n",
       "</div>"
      ],
      "text/plain": [
       "          id city_name    signup_os signup_channel signup_date   bgc_date  \\\n",
       "33134  33135    Strark          mac        Organic  2016-01-24 2016-02-22   \n",
       "48881  48882    Strark      ios web       Referral  2016-01-14 2016-01-14   \n",
       "44563  44564    Berton      ios web       Referral  2016-01-17 2016-01-22   \n",
       "43361  43362    Berton  android web        Organic  2016-01-16 2016-01-22   \n",
       "48812  48813    Berton      ios web        Organic  2016-01-10        NaT   \n",
       "\n",
       "        vehicle_added_date vehicle_make vehicle_model  vehicle_year  \\\n",
       "33134                  NaN          NaN           NaN           NaN   \n",
       "48881  2016-01-14 00:00:00       Nissan        Sentra        2015.0   \n",
       "44563                  NaN          NaN           NaN           NaN   \n",
       "43361                  NaN          NaN           NaN           NaN   \n",
       "48812                  NaN          NaN           NaN           NaN   \n",
       "\n",
       "      first_completed_date  \n",
       "33134                  NaN  \n",
       "48881  2016-01-16 00:00:00  \n",
       "44563                  NaN  \n",
       "43361                  NaN  \n",
       "48812                  NaN  "
      ]
     },
     "execution_count": 4,
     "metadata": {},
     "output_type": "execute_result"
    }
   ],
   "source": [
    "dataset.sample(5)"
   ]
  },
  {
   "cell_type": "code",
   "execution_count": 5,
   "metadata": {
    "collapsed": false
   },
   "outputs": [
    {
     "name": "stdout",
     "output_type": "stream",
     "text": [
      "There are 265 accounts with a completed trip but missing information\n"
     ]
    }
   ],
   "source": [
    "start_driving = dataset.first_completed_date.notnull() \n",
    "not_bgc = dataset.bgc_date.isnull()\n",
    "not_vehicle_info = dataset.vehicle_added_date.isnull()\n",
    "print 'There are', sum((start_driving) & ((not_bgc) | (not_vehicle_info))), 'accounts with a completed trip but missing information'"
   ]
  },
  {
   "cell_type": "code",
   "execution_count": 6,
   "metadata": {
    "collapsed": false
   },
   "outputs": [],
   "source": [
    "dataset = dataset[~((start_driving) & ((not_bgc) | (not_vehicle_info)))]"
   ]
  },
  {
   "cell_type": "markdown",
   "metadata": {},
   "source": [
    "Our variables are:"
   ]
  },
  {
   "cell_type": "code",
   "execution_count": 7,
   "metadata": {
    "collapsed": false,
    "scrolled": true
   },
   "outputs": [
    {
     "name": "stdout",
     "output_type": "stream",
     "text": [
      "id\n",
      "city_name\n",
      "signup_os\n",
      "signup_channel\n",
      "signup_date\n",
      "bgc_date\n",
      "vehicle_added_date\n",
      "vehicle_make\n",
      "vehicle_model\n",
      "vehicle_year\n",
      "first_completed_date\n"
     ]
    }
   ],
   "source": [
    "for var in dataset.columns: print var"
   ]
  },
  {
   "cell_type": "markdown",
   "metadata": {},
   "source": [
    "**Note**: The *data description* provided in the instructions has some differences with the data (*.xlsx*), some the column names do not match, the format of certain dates or categories in variables.\n",
    "\n",
    "I set the index with the id in the data so I can easily managed the records"
   ]
  },
  {
   "cell_type": "code",
   "execution_count": 8,
   "metadata": {
    "collapsed": true
   },
   "outputs": [],
   "source": [
    "dataset = dataset.set_index('id')"
   ]
  },
  {
   "cell_type": "markdown",
   "metadata": {},
   "source": [
    "A dataset contains different types of variables. Then, I'd like to know the inherent structure of variables"
   ]
  },
  {
   "cell_type": "code",
   "execution_count": 9,
   "metadata": {
    "collapsed": false,
    "scrolled": true
   },
   "outputs": [
    {
     "data": {
      "text/plain": [
       "city_name                       object\n",
       "signup_os                       object\n",
       "signup_channel                  object\n",
       "signup_date             datetime64[ns]\n",
       "bgc_date                datetime64[ns]\n",
       "vehicle_added_date              object\n",
       "vehicle_make                    object\n",
       "vehicle_model                   object\n",
       "vehicle_year                   float64\n",
       "first_completed_date            object\n",
       "dtype: object"
      ]
     },
     "execution_count": 9,
     "metadata": {},
     "output_type": "execute_result"
    }
   ],
   "source": [
    "dataset.dtypes"
   ]
  },
  {
   "cell_type": "markdown",
   "metadata": {},
   "source": [
    "### 2.1. Null values"
   ]
  },
  {
   "cell_type": "markdown",
   "metadata": {},
   "source": [
    "One of the first things to investigate in any dataset is the null values, the following table shows the proportion of null values against the total of records in the variable:"
   ]
  },
  {
   "cell_type": "code",
   "execution_count": 10,
   "metadata": {
    "collapsed": false,
    "scrolled": true
   },
   "outputs": [
    {
     "data": {
      "text/plain": [
       "city_name               0.000000\n",
       "signup_os               0.125386\n",
       "signup_channel          0.000000\n",
       "signup_date             0.000000\n",
       "bgc_date                0.400342\n",
       "vehicle_added_date      0.758637\n",
       "vehicle_make            0.757020\n",
       "vehicle_model           0.757020\n",
       "vehicle_year            0.757020\n",
       "first_completed_date    0.892091\n",
       "dtype: float64"
      ]
     },
     "execution_count": 10,
     "metadata": {},
     "output_type": "execute_result"
    }
   ],
   "source": [
    "dataset.isnull().sum() / len(dataset)"
   ]
  },
  {
   "cell_type": "markdown",
   "metadata": {},
   "source": [
    "**Decision:** All variables contain a considerable proportion of null values then I decided to not remove any variable. This proportion should be reduced from process controls, reviewing the user experience and facility when a candidate tries to fill an application or other factor that affects the data quality in the information"
   ]
  },
  {
   "cell_type": "markdown",
   "metadata": {},
   "source": [
    "### 2.2. Categorical variables"
   ]
  },
  {
   "cell_type": "markdown",
   "metadata": {},
   "source": [
    "Next, I looked more deeply into the variables. Categorical data are those who -as its name says- are represented by categories and for this reason can not be used in numerical operation.\n",
    "\n",
    "**Note: Most of the variables seems to be categorial. Indeed, the data set only have one numerical variable (vehicle_year).**"
   ]
  },
  {
   "cell_type": "code",
   "execution_count": 11,
   "metadata": {
    "collapsed": false
   },
   "outputs": [],
   "source": [
    "disc = ['city_name', 'signup_os', 'signup_channel', 'vehicle_make', 'vehicle_model']"
   ]
  },
  {
   "cell_type": "markdown",
   "metadata": {},
   "source": [
    "I could vizualize more easily the variables in a barplot. The following cell displays a barplot for each categorical variable in the data, grouping those categories that do not represent a considerable proportion in total records.\n",
    "\n",
    "**Decision:** Then, if a variable's category does not represent at least the *1%* of the total counts, it will be added to **Other** category.\n",
    "\n",
    "**Note:** After inspect each variable (*vehicle_model* for example, has a looot of categories), I decided to group and create the *Other* category, so the model won't be affected by overfitting. "
   ]
  },
  {
   "cell_type": "code",
   "execution_count": 12,
   "metadata": {
    "collapsed": false,
    "scrolled": false
   },
   "outputs": [
    {
     "data": {
      "image/png": "[encoded data removed]",
      "text/plain": [
       "<matplotlib.figure.Figure at 0x118aa3050>"
      ]
     },
     "metadata": {},
     "output_type": "display_data"
    },
    {
     "name": "stdout",
     "output_type": "stream",
     "text": [
      "\n"
     ]
    },
    {
     "data": {
      "image/png": "[encoded data removed]",
      "text/plain": [
       "<matplotlib.figure.Figure at 0x118aa3150>"
      ]
     },
     "metadata": {},
     "output_type": "display_data"
    },
    {
     "name": "stdout",
     "output_type": "stream",
     "text": [
      "\n"
     ]
    },
    {
     "data": {
      "image/png": "[encoded data removed]",
      "text/plain": [
       "<matplotlib.figure.Figure at 0x11809b390>"
      ]
     },
     "metadata": {},
     "output_type": "display_data"
    },
    {
     "name": "stdout",
     "output_type": "stream",
     "text": [
      "\n"
     ]
    },
    {
     "data": {
      "image/png": "[encoded data removed]",
      "text/plain": [
       "<matplotlib.figure.Figure at 0x117eb0610>"
      ]
     },
     "metadata": {},
     "output_type": "display_data"
    },
    {
     "name": "stdout",
     "output_type": "stream",
     "text": [
      "\n"
     ]
    },
    {
     "data": {
      "image/png": "[encoded data removed]",
      "text/plain": [
       "<matplotlib.figure.Figure at 0x119878810>"
      ]
     },
     "metadata": {},
     "output_type": "display_data"
    },
    {
     "name": "stdout",
     "output_type": "stream",
     "text": [
      "\n"
     ]
    }
   ],
   "source": [
    "dataset_disc = dataset.copy()\n",
    "threshold = 0.01\n",
    "null_name = 'Null'\n",
    "for i, var_disc in enumerate(disc):\n",
    "    # if var_disc != 'signup_os': continue\n",
    "    \n",
    "    dataset_disc[disc[i]] = dataset_disc[disc[i]].fillna(null_name)\n",
    "    categories = pd.DataFrame(dataset_disc[disc[i]].fillna(null_name).value_counts() / len(dataset_disc)).reset_index()\n",
    "    categories.sort_values(disc[i], inplace=True, ascending=False)\n",
    "\n",
    "    lst = []\n",
    "    for j, row in categories.iterrows():\n",
    "        if row[disc[i]] < threshold:\n",
    "            lst.append([row['index'], row[disc[i]]])\n",
    "    group_df = pd.DataFrame(lst, columns=['feature', 'pct'])\n",
    "\n",
    "    lst = categories[categories[disc[i]] >= threshold]['index'].tolist()\n",
    "    lst = ['\"' + x + '\"' for x in lst]\n",
    "\n",
    "    if group_df.pct.sum() > threshold:\n",
    "        dataset_disc[disc[i]] = np.where(dataset_disc[disc[i]].isin(group_df.feature.tolist()), 'Other', dataset_disc[disc[i]])\n",
    "\n",
    "    aux = pd.DataFrame(dataset_disc[var_disc].value_counts())\n",
    "    plt.title('Counts for: ' + var_disc)\n",
    "    sns.barplot(x='index', y=var_disc, data=aux.reset_index())\n",
    "    plt.show()\n",
    "    print "
   ]
  },
  {
   "cell_type": "markdown",
   "metadata": {},
   "source": [
    "### 2.3. Datetime variables"
   ]
  },
  {
   "cell_type": "markdown",
   "metadata": {},
   "source": [
    "Date variables can be extra helpful when feature extraction comes. The document provided for the creativity test establish the data is a cohort from January 2015, **but all dates correspond to January 2016**. From now, I considered that the cohort have been collected in 2016.\n",
    "\n",
    "**Note**: The object type for date variables are not the same (*vehicle_added_date* is an *object* indicating the variable hasn't the same format for all records)"
   ]
  },
  {
   "cell_type": "code",
   "execution_count": 13,
   "metadata": {
    "collapsed": false
   },
   "outputs": [],
   "source": [
    "dataset_disc['vehicle_added_date'] = pd.to_datetime(dataset_disc.vehicle_added_date)\n",
    "dataset_disc['first_completed_date'] = pd.to_datetime(dataset_disc.first_completed_date)"
   ]
  },
  {
   "cell_type": "code",
   "execution_count": 14,
   "metadata": {
    "collapsed": false
   },
   "outputs": [
    {
     "data": {
      "text/plain": [
       "city_name                       object\n",
       "signup_os                       object\n",
       "signup_channel                  object\n",
       "signup_date             datetime64[ns]\n",
       "bgc_date                datetime64[ns]\n",
       "vehicle_added_date      datetime64[ns]\n",
       "vehicle_make                    object\n",
       "vehicle_model                   object\n",
       "vehicle_year                   float64\n",
       "first_completed_date    datetime64[ns]\n",
       "dtype: object"
      ]
     },
     "execution_count": 14,
     "metadata": {},
     "output_type": "execute_result"
    }
   ],
   "source": [
    "dataset_disc.dtypes"
   ]
  },
  {
   "cell_type": "markdown",
   "metadata": {},
   "source": [
    "With a cleaning in the date variables, I could observe the following about them:"
   ]
  },
  {
   "cell_type": "code",
   "execution_count": 15,
   "metadata": {
    "collapsed": true
   },
   "outputs": [],
   "source": [
    "historical_signups = dataset_disc.reset_index()[['id', 'signup_date']].groupby('signup_date').count().reset_index()\n",
    "historical_bgcs= dataset_disc.reset_index()[['id', 'bgc_date']].groupby('bgc_date').count().reset_index()"
   ]
  },
  {
   "cell_type": "code",
   "execution_count": 16,
   "metadata": {
    "collapsed": false
   },
   "outputs": [
    {
     "data": {
      "image/png": "[encoded data removed]",
      "text/plain": [
       "<matplotlib.figure.Figure at 0x119917890>"
      ]
     },
     "metadata": {},
     "output_type": "display_data"
    }
   ],
   "source": [
    "plt.figure(figsize=(15, 5))\n",
    "plt.xticks(rotation=45)\n",
    "plt.title('Historical sign up events during January 2016')\n",
    "plt.plot_date(x='signup_date', y='id', data=historical_signups);"
   ]
  },
  {
   "cell_type": "code",
   "execution_count": 17,
   "metadata": {
    "collapsed": false
   },
   "outputs": [
    {
     "data": {
      "image/png": "[encoded data removed]",
      "text/plain": [
       "<matplotlib.figure.Figure at 0x11996f390>"
      ]
     },
     "metadata": {},
     "output_type": "display_data"
    }
   ],
   "source": [
    "plt.figure(figsize=(15, 4))\n",
    "plt.xticks(rotation=45)\n",
    "plt.title('Historical first ride events for applicants from cohort January 2016')\n",
    "plt.plot_date(x='bgc_date', y='id', data=historical_bgcs);"
   ]
  },
  {
   "cell_type": "code",
   "execution_count": 18,
   "metadata": {
    "collapsed": false
   },
   "outputs": [
    {
     "data": {
      "image/png": "[encoded data removed]",
      "text/plain": [
       "<matplotlib.figure.Figure at 0x118ca9b10>"
      ]
     },
     "metadata": {},
     "output_type": "display_data"
    }
   ],
   "source": [
    "fig = plt.figure(figsize=(12, 4))\n",
    "\n",
    "plt.xticks(rotation=45)\n",
    "plt.plot_date(x='signup_date', y='id', data=historical_signups)\n",
    "plt.plot_date(x='bgc_date', y='id', data=historical_bgcs)\n",
    "plt.title(\"Relation from applicant's account creation and first ride from cohort January 2016\")\n",
    "\n",
    "fig.autofmt_xdate()\n",
    "plt.show()"
   ]
  },
  {
   "cell_type": "markdown",
   "metadata": {},
   "source": [
    "**Notes**: As I observed in the preciding visualizacion, the number of accounts created during January 2015 seems to have a cyclic effect, this can be due to the day of the week. It's more reasonable fill an account during the weekend, **Friday** and **Saturday**.\n",
    "\n",
    "It appers most of the applicants who start driving begin their process in January and they started to drive in less than a month.\n",
    "\n",
    "**Suggestion**: Determinate the factors related to the efficience for a applicant to finish their application and immediately start to driving.\n",
    "\n",
    "**Decision**: I could obtain more information extracting the **week day** in which the account was created."
   ]
  },
  {
   "cell_type": "markdown",
   "metadata": {},
   "source": [
    "### 2.4. Numerical variables"
   ]
  },
  {
   "cell_type": "markdown",
   "metadata": {},
   "source": [
    "The only numerical value that we have is *vehicle_year*. Considering this variable is discrete I observed that exist vehicles's models with a *year* equals to 0, which is pretty imposible."
   ]
  },
  {
   "cell_type": "code",
   "execution_count": 19,
   "metadata": {
    "collapsed": false
   },
   "outputs": [
    {
     "data": {
      "text/plain": [
       "Null      41194\n",
       "2015.0     2402\n",
       "2014.0     1655\n",
       "2013.0     1451\n",
       "2016.0     1150\n",
       "2012.0     1122\n",
       "2007.0      710\n",
       "2011.0      702\n",
       "2008.0      659\n",
       "2010.0      645\n",
       "2006.0      550\n",
       "2009.0      513\n",
       "2005.0      450\n",
       "2004.0      369\n",
       "2003.0      350\n",
       "2002.0      251\n",
       "2001.0      169\n",
       "2000.0       29\n",
       "1999.0       14\n",
       "1998.0       10\n",
       "2017.0        6\n",
       "1997.0        6\n",
       "1996.0        4\n",
       "0.0           4\n",
       "1995.0        1\n",
       "Name: vehicle_year, dtype: int64"
      ]
     },
     "execution_count": 19,
     "metadata": {},
     "output_type": "execute_result"
    }
   ],
   "source": [
    "# discrete variable\n",
    "dataset_disc.vehicle_year.fillna('Null').value_counts()"
   ]
  },
  {
   "cell_type": "markdown",
   "metadata": {},
   "source": [
    "**Decision**: I established a year threshold (I think, Uber has a policy in which you can't be an partner if you haven't a recent vehicle, of course this is not equal for all regions where Uber operates) for the vehicle's year, then we can remove those four records from our set.\n",
    "\n",
    "**Note**: 6 vehicles are registred with a year **2017**, the only explanation is [Dr. Emmett Brown](https://en.wikipedia.org/wiki/Back_to_the_Future) wanted to be an Uber partner and he traveled in time from 2017 to 2016. Or maybe some error in data. I eliminated those records."
   ]
  },
  {
   "cell_type": "code",
   "execution_count": 20,
   "metadata": {
    "collapsed": false
   },
   "outputs": [],
   "source": [
    "year_threshold = 1990\n",
    "dataset_disc = dataset_disc[((year_threshold <= dataset_disc.vehicle_year) & (dataset_disc.vehicle_year <= 2016)) | (dataset_disc.vehicle_year.isnull())]"
   ]
  },
  {
   "cell_type": "code",
   "execution_count": 21,
   "metadata": {
    "collapsed": false
   },
   "outputs": [
    {
     "data": {
      "image/png": "[encoded data removed]",
      "text/plain": [
       "<matplotlib.figure.Figure at 0x11a25fb90>"
      ]
     },
     "metadata": {},
     "output_type": "display_data"
    }
   ],
   "source": [
    "plt.figure(figsize=(10, 4))\n",
    "sns.countplot(x='vehicle_year', data=dataset_disc)\n",
    "plt.xticks(rotation=45)\n",
    "plt.show()"
   ]
  },
  {
   "cell_type": "markdown",
   "metadata": {},
   "source": [
    "As I expected, most of vehicles are recent (a year before the cohort was obtained). It's interesting to note that many vehicles are from **2007**, this can be help me to determinate if some who creates an account with an old car is able to start to drive."
   ]
  },
  {
   "cell_type": "markdown",
   "metadata": {},
   "source": [
    "## 3. Target variable"
   ]
  },
  {
   "cell_type": "markdown",
   "metadata": {},
   "source": [
    "Now, after looking our variables is time to create our target variable. The purpose of the model is to determinate the relationship between the dependend variables so I can explain (*and predict!*) which person is more likely to start driving.\n",
    "\n",
    "The target variable can be easily make, if a record has a non null value in the variable *first_completed_date* then s/he was able to create her/his account and start to drive! "
   ]
  },
  {
   "cell_type": "code",
   "execution_count": 22,
   "metadata": {
    "collapsed": false
   },
   "outputs": [
    {
     "data": {
      "image/png": "[encoded data removed]",
      "text/plain": [
       "<matplotlib.figure.Figure at 0x11d7dc990>"
      ]
     },
     "metadata": {},
     "output_type": "display_data"
    }
   ],
   "source": [
    "dataset_disc['target'] = np.where(dataset_disc.first_completed_date.isnull(), 0, 1)\n",
    "target = pd.DataFrame(data=dataset_disc.target.value_counts(True))\n",
    "target['success'] = [0, 1]\n",
    "\n",
    "plt.title('Percentage of accounts that were able to start to drive')\n",
    "sns.barplot(x='success', y=\"target\", data=target);\n",
    "plt.show()"
   ]
  },
  {
   "cell_type": "markdown",
   "metadata": {},
   "source": [
    "### Only a ~ 11% of accounts from the cohort of January 2016 started to drive in Uber"
   ]
  },
  {
   "cell_type": "markdown",
   "metadata": {},
   "source": [
    "## 4. Featuring engineering"
   ]
  },
  {
   "cell_type": "markdown",
   "metadata": {},
   "source": [
    "Once I looked to the original data, I created extra information that can be useful to the model.\n",
    "\n",
    "**Decision**: Based on my previous exploratory analysis I created the following variables:\n",
    "\n",
    "* **signup_to_bgc**: Number of days to upload the background check since the account creation\n",
    "* **signup_to_vehicle**: Number of days to upload the vehicle information since the account creation\n",
    "* **first_info**: What information was uploaded first? Background? Vehicle's info? At the same day?\n",
    "* **day_week**: Day of the week the the account was created\n",
    "* **web_mobile**: What platform was used to create the account?"
   ]
  },
  {
   "cell_type": "code",
   "execution_count": 23,
   "metadata": {
    "collapsed": false
   },
   "outputs": [],
   "source": [
    "dataset_disc['signup_to_bgc'] = dataset_disc.apply(lambda x: (x['bgc_date'] - x['signup_date']).days if x['bgc_date'] is not pd.NaT else np.NaN, axis=1)\n",
    "dataset_disc['signup_to_vehicle'] = dataset_disc.apply(lambda x: (x['vehicle_added_date'] - x['signup_date']).days if x['vehicle_added_date'] is not pd.NaT else np.NaN, axis=1)"
   ]
  },
  {
   "cell_type": "markdown",
   "metadata": {},
   "source": [
    "**Decision**: After reviewing the variables created, it's imposible to updated any kind of information if you didn't create your account first. So I decided to remove this data from the data."
   ]
  },
  {
   "cell_type": "code",
   "execution_count": 24,
   "metadata": {
    "collapsed": false
   },
   "outputs": [],
   "source": [
    "dataset_disc = dataset_disc[(dataset_disc.signup_to_bgc >= 0) | (dataset_disc.signup_to_bgc.isnull())]\n",
    "dataset_disc = dataset_disc[(dataset_disc.signup_to_vehicle >= 0) | (dataset_disc.signup_to_vehicle.isnull())]"
   ]
  },
  {
   "cell_type": "code",
   "execution_count": 25,
   "metadata": {
    "collapsed": false
   },
   "outputs": [
    {
     "name": "stdout",
     "output_type": "stream",
     "text": [
      "At this point we have lost 0.02% of the original data\n"
     ]
    }
   ],
   "source": [
    "print 'At this point we have lost', str(round(100.0*(1 - 1.*len(dataset_disc)/len(dataset)), 2)) + '% of the original data'"
   ]
  },
  {
   "cell_type": "code",
   "execution_count": 26,
   "metadata": {
    "collapsed": false,
    "scrolled": false
   },
   "outputs": [
    {
     "data": {
      "image/png": "[encoded data removed]",
      "text/plain": [
       "<matplotlib.figure.Figure at 0x11e793650>"
      ]
     },
     "metadata": {},
     "output_type": "display_data"
    },
    {
     "name": "stdout",
     "output_type": "stream",
     "text": [
      "\n"
     ]
    },
    {
     "data": {
      "image/png": "[encoded data removed]",
      "text/plain": [
       "<matplotlib.figure.Figure at 0x11e2d9d50>"
      ]
     },
     "metadata": {},
     "output_type": "display_data"
    },
    {
     "name": "stdout",
     "output_type": "stream",
     "text": [
      "\n"
     ]
    }
   ],
   "source": [
    "new_cont = ['signup_to_bgc', 'signup_to_vehicle']\n",
    "for var_cont in new_cont:\n",
    "    aux = pd.DataFrame(dataset_disc[var_cont].value_counts())\n",
    "    \n",
    "    plt.figure(figsize=(12, 4))\n",
    "    plt.title('Counts for ' + var_cont)\n",
    "    sns.barplot(x='index', y=var_cont, data=aux.reset_index())\n",
    "    plt.xticks(rotation=90)\n",
    "    plt.show()\n",
    "    print "
   ]
  },
  {
   "cell_type": "code",
   "execution_count": 27,
   "metadata": {
    "collapsed": false
   },
   "outputs": [],
   "source": [
    "dataset_disc['first_info'] = dataset_disc.apply(lambda x: what_first(x['signup_to_bgc'], x['signup_to_vehicle']), \n",
    "                                                axis=1)"
   ]
  },
  {
   "cell_type": "code",
   "execution_count": 28,
   "metadata": {
    "collapsed": false,
    "scrolled": true
   },
   "outputs": [
    {
     "data": {
      "image/png": "[encoded data removed]",
      "text/plain": [
       "<matplotlib.figure.Figure at 0x1029fdc90>"
      ]
     },
     "metadata": {},
     "output_type": "display_data"
    }
   ],
   "source": [
    "sns.countplot(x='first_info', data=dataset_disc.fillna('Null'), order=['bgc_first', 'vehicle_first', 'same_day', 'Null'])\n",
    "plt.show()"
   ]
  },
  {
   "cell_type": "markdown",
   "metadata": {},
   "source": [
    "**Note**: As I believed, the *background check* is the information that people often upload first. But not so far are those who upload their *vehicle information* before their background check. An finally, a few people that upload at the **same day** both requirements. Could be reasonable thinking that if a person uploads all her/his information in the same day has more interest in being part of Uber.\n",
    "\n",
    "**Suggestion**: Why many people uploads the background information first? Maybe the **vehicle information section** its less intuivite or complicated."
   ]
  },
  {
   "cell_type": "code",
   "execution_count": 29,
   "metadata": {
    "collapsed": false
   },
   "outputs": [],
   "source": [
    "dataset_disc['day_week'] = dataset_disc.signup_date.apply(lambda x: calendar.day_abbr[x.isoweekday() - 1])"
   ]
  },
  {
   "cell_type": "code",
   "execution_count": 30,
   "metadata": {
    "collapsed": false,
    "scrolled": false
   },
   "outputs": [
    {
     "data": {
      "image/png": "[encoded data removed]",
      "text/plain": [
       "<matplotlib.figure.Figure at 0x118935150>"
      ]
     },
     "metadata": {},
     "output_type": "display_data"
    }
   ],
   "source": [
    "sns.countplot(x='day_week', data=dataset_disc.fillna('Null'), order=list(calendar.day_abbr))\n",
    "plt.show()"
   ]
  },
  {
   "cell_type": "markdown",
   "metadata": {},
   "source": [
    "Ha! As I suspected! **Friday** and **Saturday** are the day in which people tend to create an account... But, there is not relation that lead us to think people only use the weekend to advance in the process to make a first ride."
   ]
  },
  {
   "cell_type": "code",
   "execution_count": 31,
   "metadata": {
    "collapsed": false,
    "scrolled": true
   },
   "outputs": [
    {
     "data": {
      "image/png": "[encoded data removed]",
      "text/plain": [
       "<matplotlib.figure.Figure at 0x11996f790>"
      ]
     },
     "metadata": {},
     "output_type": "display_data"
    }
   ],
   "source": [
    "dataset_disc['web_mobile'] = dataset[dataset.reset_index()['id'].isin(dataset_disc.reset_index().id.tolist()).tolist()].signup_os.apply(lambda x: web_mobile(x))\n",
    "sns.countplot(x='web_mobile', data=dataset_disc.fillna('Null'))\n",
    "plt.show()"
   ]
  },
  {
   "cell_type": "markdown",
   "metadata": {},
   "source": [
    "Finally, I created a new variable that classifies by general platform the account's creation. An account can be created in the web site or a mobile."
   ]
  },
  {
   "cell_type": "code",
   "execution_count": 32,
   "metadata": {
    "collapsed": true
   },
   "outputs": [],
   "source": [
    "new_disc = ['first_info', 'day_week', 'web_mobile']"
   ]
  },
  {
   "cell_type": "code",
   "execution_count": 33,
   "metadata": {
    "collapsed": true
   },
   "outputs": [],
   "source": [
    "disc += new_disc\n",
    "cont = ['vehicle_year'] + new_cont"
   ]
  },
  {
   "cell_type": "code",
   "execution_count": 34,
   "metadata": {
    "collapsed": false
   },
   "outputs": [
    {
     "name": "stdout",
     "output_type": "stream",
     "text": [
      "['city_name', 'signup_os', 'signup_channel', 'vehicle_make', 'vehicle_model', 'first_info', 'day_week', 'web_mobile']\n",
      "['vehicle_year', 'signup_to_bgc', 'signup_to_vehicle']\n"
     ]
    }
   ],
   "source": [
    "print disc\n",
    "print cont"
   ]
  },
  {
   "cell_type": "code",
   "execution_count": 35,
   "metadata": {
    "collapsed": false
   },
   "outputs": [
    {
     "name": "stdout",
     "output_type": "stream",
     "text": [
      "city_name\n",
      "signup_os\n",
      "signup_channel\n",
      "signup_date\n",
      "bgc_date\n",
      "vehicle_added_date\n",
      "vehicle_make\n",
      "vehicle_model\n",
      "vehicle_year\n",
      "first_completed_date\n",
      "target\n",
      "signup_to_bgc\n",
      "signup_to_vehicle\n",
      "first_info\n",
      "day_week\n",
      "web_mobile\n"
     ]
    }
   ],
   "source": [
    "for var in dataset_disc.columns: print var"
   ]
  },
  {
   "cell_type": "markdown",
   "metadata": {},
   "source": [
    "**Decision**: Having this variables and acoriding to the binary classification problem, I decided to model a logistic model to predict the likelihood for someone to created an account and finally start to drive.\n",
    "\n",
    "For this purpose, I will calculate the [iv](https://support.sas.com/resources/papers/proceedings13/095-2013.pdf) metric to select the best features to create the model. Before that, I will discretize the continuous variables into optimal categories (using a decision tree classifier) so I can mesuare the [woe](https://support.sas.com/resources/papers/proceedings13/095-2013.pdf) values from each categorical and discrete variable.\n",
    "\n",
    "Finally, using the **woe variables** I will fit a logistic regression to predict the success on partner applications to start to drive a vehicle with Uber."
   ]
  },
  {
   "cell_type": "markdown",
   "metadata": {},
   "source": [
    "## 5. Information Value (iv) and Weight of Evidence (WoE)"
   ]
  },
  {
   "cell_type": "markdown",
   "metadata": {},
   "source": [
    "To find the optimum number of bins to discretize a continuous variable we use a **decision tree classifier**, this allow us **choose the number of groups that maximize the information value**. Using a decision tree with a range of possible depths, the algorithm perform a grind search optimizing the information that can be obtained from the variable if we transformed into a discrete variable."
   ]
  },
  {
   "cell_type": "code",
   "execution_count": 36,
   "metadata": {
    "collapsed": false
   },
   "outputs": [
    {
     "name": "stdout",
     "output_type": "stream",
     "text": [
      "fitting best number of bins for feature vehicle_year ...\n",
      "best number of bins encountered: 1 with iv 0.10 \n",
      "fitting best number of bins for feature signup_to_bgc ...\n",
      "best number of bins encountered: 1 with iv 0.10 \n",
      "fitting best number of bins for feature signup_to_vehicle ...\n",
      "best number of bins encountered: 1 with iv 0.10 \n"
     ]
    }
   ],
   "source": [
    "dataset_all_disc = discretize_opt(dataset_disc, cont, 'target', 0.6, True)"
   ]
  },
  {
   "cell_type": "code",
   "execution_count": 37,
   "metadata": {
    "collapsed": false
   },
   "outputs": [],
   "source": [
    "disc += [x for x in dataset_all_disc.columns if x.startswith('C_')]"
   ]
  },
  {
   "cell_type": "code",
   "execution_count": 38,
   "metadata": {
    "collapsed": false
   },
   "outputs": [
    {
     "data": {
      "text/plain": [
       "['city_name',\n",
       " 'signup_os',\n",
       " 'signup_channel',\n",
       " 'vehicle_make',\n",
       " 'vehicle_model',\n",
       " 'first_info',\n",
       " 'day_week',\n",
       " 'web_mobile',\n",
       " 'C_vehicle_year',\n",
       " 'C_signup_to_bgc',\n",
       " 'C_signup_to_vehicle']"
      ]
     },
     "execution_count": 38,
     "metadata": {},
     "output_type": "execute_result"
    }
   ],
   "source": [
    "disc"
   ]
  },
  {
   "cell_type": "code",
   "execution_count": 39,
   "metadata": {
    "collapsed": false,
    "scrolled": false
   },
   "outputs": [
    {
     "data": {
      "image/png": "[encoded data removed]",
      "text/plain": [
       "<matplotlib.figure.Figure at 0x11a20e190>"
      ]
     },
     "metadata": {},
     "output_type": "display_data"
    },
    {
     "name": "stdout",
     "output_type": "stream",
     "text": [
      "\n"
     ]
    },
    {
     "data": {
      "image/png": "[encoded data removed]",
      "text/plain": [
       "<matplotlib.figure.Figure at 0x119ef17d0>"
      ]
     },
     "metadata": {},
     "output_type": "display_data"
    },
    {
     "name": "stdout",
     "output_type": "stream",
     "text": [
      "\n"
     ]
    },
    {
     "data": {
      "image/png": "[encoded data removed]",
      "text/plain": [
       "<matplotlib.figure.Figure at 0x11d7f0910>"
      ]
     },
     "metadata": {},
     "output_type": "display_data"
    },
    {
     "name": "stdout",
     "output_type": "stream",
     "text": [
      "\n"
     ]
    }
   ],
   "source": [
    "for i, var_disc in enumerate([x for x in dataset_all_disc.columns if x.startswith('C_')]):\n",
    "    # if var_disc != 'vehicle_model': continue\n",
    "    \n",
    "    dataset_all_disc[disc[i]] = dataset_all_disc[disc[i]].fillna(null_name)\n",
    "    categories = pd.DataFrame(dataset_all_disc[disc[i]].fillna(null_name).value_counts() / len(dataset_all_disc)).reset_index()\n",
    "    categories.sort_values(disc[i], inplace=True, ascending=False)\n",
    "\n",
    "    lst = []\n",
    "    for j, row in categories.iterrows():\n",
    "        if row[disc[i]] < threshold:\n",
    "            lst.append([row['index'], row[disc[i]]])\n",
    "    group_df = pd.DataFrame(lst, columns=['feature', 'pct'])\n",
    "\n",
    "    lst = categories[categories[disc[i]] >= threshold]['index'].tolist()\n",
    "    lst = ['\"' + x + '\"' for x in lst]\n",
    "\n",
    "    if group_df.pct.sum() > threshold:\n",
    "        dataset_all_disc[disc[i]] = np.where(dataset_all_disc[disc[i]].isin(group_df.feature.tolist()), 'Other', dataset_all_disc[disc[i]])\n",
    "\n",
    "    aux = pd.DataFrame(dataset_all_disc[var_disc].value_counts())\n",
    "    plt.title('Counts for: ' + var_disc)\n",
    "    sns.barplot(x='index', y=var_disc, data=aux.reset_index())\n",
    "    plt.show()\n",
    "    print "
   ]
  },
  {
   "cell_type": "markdown",
   "metadata": {},
   "source": [
    "The report of the information values from each variable is presented below. \n",
    "\n",
    "**Decision**: I choose the best features for the model according to this criteria. \n",
    "\n",
    "**Note**: An infinite iv value represent that a variable's category is not present in one of the target option. In this case, for example, all accounts that have one rided do not hace the **null** category in *first_info* variable, this can be obvious because you can not start to drive if you have not upload your information.\n",
    "\n",
    "The information value then can detect spurious correlation between the objective variable and depended varibles. I excluded those variables with infinite values."
   ]
  },
  {
   "cell_type": "code",
   "execution_count": 40,
   "metadata": {
    "collapsed": false,
    "scrolled": false
   },
   "outputs": [
    {
     "data": {
      "text/html": [
       "<div>\n",
       "<table border=\"1\" class=\"dataframe\">\n",
       "  <thead>\n",
       "    <tr style=\"text-align: right;\">\n",
       "      <th></th>\n",
       "      <th>feature</th>\n",
       "      <th>iv</th>\n",
       "    </tr>\n",
       "  </thead>\n",
       "  <tbody>\n",
       "    <tr>\n",
       "      <th>3</th>\n",
       "      <td>vehicle_make</td>\n",
       "      <td>inf</td>\n",
       "    </tr>\n",
       "    <tr>\n",
       "      <th>4</th>\n",
       "      <td>vehicle_model</td>\n",
       "      <td>inf</td>\n",
       "    </tr>\n",
       "    <tr>\n",
       "      <th>5</th>\n",
       "      <td>first_info</td>\n",
       "      <td>inf</td>\n",
       "    </tr>\n",
       "    <tr>\n",
       "      <th>8</th>\n",
       "      <td>C_vehicle_year</td>\n",
       "      <td>inf</td>\n",
       "    </tr>\n",
       "    <tr>\n",
       "      <th>9</th>\n",
       "      <td>C_signup_to_bgc</td>\n",
       "      <td>inf</td>\n",
       "    </tr>\n",
       "    <tr>\n",
       "      <th>10</th>\n",
       "      <td>C_signup_to_vehicle</td>\n",
       "      <td>inf</td>\n",
       "    </tr>\n",
       "    <tr>\n",
       "      <th>2</th>\n",
       "      <td>signup_channel</td>\n",
       "      <td>0.355012</td>\n",
       "    </tr>\n",
       "    <tr>\n",
       "      <th>1</th>\n",
       "      <td>signup_os</td>\n",
       "      <td>0.282182</td>\n",
       "    </tr>\n",
       "    <tr>\n",
       "      <th>7</th>\n",
       "      <td>web_mobile</td>\n",
       "      <td>0.261240</td>\n",
       "    </tr>\n",
       "    <tr>\n",
       "      <th>6</th>\n",
       "      <td>day_week</td>\n",
       "      <td>0.014798</td>\n",
       "    </tr>\n",
       "    <tr>\n",
       "      <th>0</th>\n",
       "      <td>city_name</td>\n",
       "      <td>0.007143</td>\n",
       "    </tr>\n",
       "  </tbody>\n",
       "</table>\n",
       "</div>"
      ],
      "text/plain": [
       "                feature        iv\n",
       "3          vehicle_make       inf\n",
       "4         vehicle_model       inf\n",
       "5            first_info       inf\n",
       "8        C_vehicle_year       inf\n",
       "9       C_signup_to_bgc       inf\n",
       "10  C_signup_to_vehicle       inf\n",
       "2        signup_channel  0.355012\n",
       "1             signup_os  0.282182\n",
       "7            web_mobile  0.261240\n",
       "6              day_week  0.014798\n",
       "0             city_name  0.007143"
      ]
     },
     "execution_count": 40,
     "metadata": {},
     "output_type": "execute_result"
    }
   ],
   "source": [
    "lst_iv = []\n",
    "\n",
    "for feature in disc:\n",
    "    lst_iv.append([feature, iv(dataset_all_disc[feature], dataset_all_disc['target'])])\n",
    "ivr = pd.DataFrame(lst_iv, columns=['feature', 'iv']).sort_values('iv', ascending=0)\n",
    "ivr"
   ]
  },
  {
   "cell_type": "code",
   "execution_count": 41,
   "metadata": {
    "collapsed": false
   },
   "outputs": [],
   "source": [
    "best_features = ivr[(0 <= ivr['iv']) & (ivr['iv'] <= 999)]['feature'].tolist()"
   ]
  },
  {
   "cell_type": "markdown",
   "metadata": {},
   "source": [
    "The best features are:"
   ]
  },
  {
   "cell_type": "code",
   "execution_count": 42,
   "metadata": {
    "collapsed": false
   },
   "outputs": [
    {
     "name": "stdout",
     "output_type": "stream",
     "text": [
      "signup_channel\n",
      "signup_os\n",
      "web_mobile\n",
      "day_week\n",
      "city_name\n"
     ]
    }
   ],
   "source": [
    "for feat in best_features: print feat"
   ]
  },
  {
   "cell_type": "markdown",
   "metadata": {},
   "source": [
    "I transform the categorical and discrete variables into weight of evidence to fit the logistic model. \n",
    "More info [here](http://multithreaded.stitchfix.com/blog/2015/08/13/weight-of-evidence/) and [here](https://stats.stackexchange.com/questions/189568/replacing-variables-by-woe-weight-of-evidence-in-logistic-regression?noredirect=1&lq=1)."
   ]
  },
  {
   "cell_type": "code",
   "execution_count": 43,
   "metadata": {
    "collapsed": false
   },
   "outputs": [],
   "source": [
    "dataset_woe = woe_transformation(dataset_all_disc, best_features, 'target')"
   ]
  },
  {
   "cell_type": "code",
   "execution_count": 44,
   "metadata": {
    "collapsed": false
   },
   "outputs": [],
   "source": [
    "woe_features = [x for x in dataset_woe.columns if x.startswith('W_')]"
   ]
  },
  {
   "cell_type": "code",
   "execution_count": 45,
   "metadata": {
    "collapsed": false
   },
   "outputs": [
    {
     "data": {
      "text/plain": [
       "['W_signup_channel',\n",
       " 'W_signup_os',\n",
       " 'W_web_mobile',\n",
       " 'W_day_week',\n",
       " 'W_city_name']"
      ]
     },
     "execution_count": 45,
     "metadata": {},
     "output_type": "execute_result"
    }
   ],
   "source": [
    "woe_features"
   ]
  },
  {
   "cell_type": "markdown",
   "metadata": {},
   "source": [
    "## 6. Fit logistic regression"
   ]
  },
  {
   "cell_type": "code",
   "execution_count": 46,
   "metadata": {
    "collapsed": false
   },
   "outputs": [],
   "source": [
    "auc = []\n",
    "X = dataset_woe[woe_features]\n",
    "y = dataset_woe['target']"
   ]
  },
  {
   "cell_type": "code",
   "execution_count": 47,
   "metadata": {
    "collapsed": true
   },
   "outputs": [],
   "source": [
    "logreg = LogisticRegression(n_jobs=-1)\n",
    "scores = cross_val_score(logreg, X, y, cv=10, scoring='roc_auc')"
   ]
  },
  {
   "cell_type": "code",
   "execution_count": 48,
   "metadata": {
    "collapsed": false
   },
   "outputs": [],
   "source": [
    "auc.append(scores.mean())"
   ]
  },
  {
   "cell_type": "code",
   "execution_count": 49,
   "metadata": {
    "collapsed": false
   },
   "outputs": [
    {
     "data": {
      "text/plain": [
       "LogisticRegression(C=1.0, class_weight=None, dual=False, fit_intercept=True,\n",
       "          intercept_scaling=1, max_iter=100, multi_class='ovr', n_jobs=-1,\n",
       "          penalty='l2', random_state=None, solver='liblinear', tol=0.0001,\n",
       "          verbose=0, warm_start=False)"
      ]
     },
     "execution_count": 49,
     "metadata": {},
     "output_type": "execute_result"
    }
   ],
   "source": [
    "Xt, Xv, yt, yv = train_test_split(X, y, train_size=0.5)\n",
    "logreg.fit(Xt, yt)"
   ]
  },
  {
   "cell_type": "code",
   "execution_count": 50,
   "metadata": {
    "collapsed": true
   },
   "outputs": [],
   "source": [
    "y_pred = logreg.predict_proba(Xt)[:, 1]\n",
    "auc.append(roc_auc_score(yt, y_pred))"
   ]
  },
  {
   "cell_type": "code",
   "execution_count": 51,
   "metadata": {
    "collapsed": true
   },
   "outputs": [],
   "source": [
    "y_pred = logreg.predict_proba(Xv)[:, 1]\n",
    "auc.append(roc_auc_score(yv, y_pred))"
   ]
  },
  {
   "cell_type": "code",
   "execution_count": 52,
   "metadata": {
    "collapsed": false
   },
   "outputs": [],
   "source": [
    "betas = logreg.coef_.tolist()[0]\n",
    "intercept = logreg.intercept_[0]"
   ]
  },
  {
   "cell_type": "code",
   "execution_count": 53,
   "metadata": {
    "collapsed": false
   },
   "outputs": [
    {
     "data": {
      "text/plain": [
       "[1.274475117734021,\n",
       " 0.7652322045693352,\n",
       " 0.5846640404783041,\n",
       " 0.49540807286112776,\n",
       " 0.3490378328807099]"
      ]
     },
     "execution_count": 53,
     "metadata": {},
     "output_type": "execute_result"
    }
   ],
   "source": [
    "betas"
   ]
  },
  {
   "cell_type": "code",
   "execution_count": 54,
   "metadata": {
    "collapsed": false
   },
   "outputs": [
    {
     "data": {
      "text/plain": [
       "-2.0984955365142071"
      ]
     },
     "execution_count": 54,
     "metadata": {},
     "output_type": "execute_result"
    }
   ],
   "source": [
    "intercept"
   ]
  },
  {
   "cell_type": "code",
   "execution_count": 55,
   "metadata": {
    "collapsed": false,
    "scrolled": false
   },
   "outputs": [
    {
     "name": "stdout",
     "output_type": "stream",
     "text": [
      "  signup_channel  W_signup_channel\n",
      "2       Referral          0.690122\n",
      "0        Organic         -0.304166\n",
      "1           Paid         -0.637279\n",
      "\n",
      "     signup_os  W_signup_os\n",
      "3          mac     0.422964\n",
      "4        other     0.238051\n",
      "2      ios web     0.192237\n",
      "5      windows     0.183369\n",
      "1  android web    -0.150874\n",
      "0         Null    -1.962767\n",
      "\n",
      "  web_mobile  W_web_mobile\n",
      "1     mobile      0.285630\n",
      "2        web      0.041107\n",
      "0       Null     -1.962767\n",
      "\n",
      "  day_week  W_day_week\n",
      "5      Tue    0.138943\n",
      "1      Mon    0.112995\n",
      "6      Wed    0.081191\n",
      "4      Thu    0.038999\n",
      "2      Sat   -0.080861\n",
      "0      Fri   -0.130120\n",
      "3      Sun   -0.219138\n",
      "\n",
      "  city_name  W_city_name\n",
      "0    Berton     0.079873\n",
      "1    Strark    -0.020273\n",
      "2   Wrouver    -0.232121\n",
      "\n"
     ]
    }
   ],
   "source": [
    "for feature in woe_features:\n",
    "    print dataset_woe[[feature[2:], feature]].groupby(feature[2:]).mean().reset_index().sort_values(feature, ascending=False)\n",
    "    print "
   ]
  },
  {
   "cell_type": "markdown",
   "metadata": {},
   "source": [
    "**NOTE**: Because we are using a transformation of the variable, the interpretation of the beta parameters in the regression model is not the same as we know. Traditionally, the expression $exp(\\beta_n)$ means the relation between the increase of the odd's ratio if we increase the variable $x_n$ by one unit.\n",
    "\n",
    "But with the **woe variables**, beta parameters are the linear bias of each weight-of-evidence. Weight of evidence presents a linear relationship with the natural logarithm of the odds ratio which is the dependent variable in logistic regression."
   ]
  },
  {
   "cell_type": "markdown",
   "metadata": {},
   "source": [
    "## 7. Model Performance"
   ]
  },
  {
   "cell_type": "code",
   "execution_count": 56,
   "metadata": {
    "collapsed": false
   },
   "outputs": [
    {
     "name": "stdout",
     "output_type": "stream",
     "text": [
      "AUC for cross validation: 0.738692807583\n",
      "AUC for training set: 0.741357383719\n",
      "AUC for validation set: 0.73668488271\n"
     ]
    }
   ],
   "source": [
    "print 'AUC for cross validation:', auc[0]\n",
    "print 'AUC for training set:', auc[1]\n",
    "print 'AUC for validation set:', auc[2]"
   ]
  },
  {
   "cell_type": "code",
   "execution_count": 57,
   "metadata": {
    "collapsed": false
   },
   "outputs": [
    {
     "data": {
      "image/png": "[encoded data removed]",
      "text/plain": [
       "<matplotlib.figure.Figure at 0x1193c6a10>"
      ]
     },
     "metadata": {},
     "output_type": "display_data"
    }
   ],
   "source": [
    "plot_roc_curve(dataset_woe, woe_features, 'target', logreg, train_size=0.7)"
   ]
  },
  {
   "cell_type": "code",
   "execution_count": null,
   "metadata": {
    "collapsed": true
   },
   "outputs": [],
   "source": []
  }
 ],
 "metadata": {
  "anaconda-cloud": {},
  "kernelspec": {
   "display_name": "Python [Root]",
   "language": "python",
   "name": "Python [Root]"
  },
  "language_info": {
   "codemirror_mode": {
    "name": "ipython",
    "version": 2
   },
   "file_extension": ".py",
   "mimetype": "text/x-python",
   "name": "python",
   "nbconvert_exporter": "python",
   "pygments_lexer": "ipython2",
   "version": "2.7.12"
  }
 },
 "nbformat": 4,
 "nbformat_minor": 2
}
